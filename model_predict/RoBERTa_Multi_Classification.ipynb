{
 "cells": [
  {
   "cell_type": "code",
   "execution_count": 1,
   "id": "84a611e8-6e46-486a-8623-16383f26e413",
   "metadata": {},
   "outputs": [
    {
     "name": "stderr",
     "output_type": "stream",
     "text": [
      "No normalization for SPS. Feature removed!\n",
      "No normalization for AvgIpc. Feature removed!\n",
      "Skipped loading some Tensorflow models, missing a dependency. No module named 'tensorflow'\n",
      "Skipped loading modules with pytorch-geometric dependency, missing a dependency. No module named 'torch_geometric'\n",
      "Skipped loading modules with pytorch-geometric dependency, missing a dependency. cannot import name 'DMPNN' from 'deepchem.models.torch_models' (/HDD1/bbq9088/miniconda3/envs/molberta/lib/python3.10/site-packages/deepchem/models/torch_models/__init__.py)\n",
      "Skipped loading modules with pytorch-lightning dependency, missing a dependency. No module named 'lightning'\n",
      "Skipped loading some Jax models, missing a dependency. No module named 'jax'\n",
      "Skipped loading some PyTorch models, missing a dependency. No module named 'tensorflow'\n"
     ]
    }
   ],
   "source": [
    "import os\n",
    "import torch\n",
    "import numpy as np\n",
    "import pandas as pd\n",
    "from tqdm import tqdm\n",
    "from sklearn.metrics import f1_score, roc_auc_score\n",
    "from torch.utils.data import DataLoader\n",
    "from transformers import RobertaTokenizer, RobertaModel\n",
    "from transformers import RobertaTokenizer, RobertaForSequenceClassification\n",
    "import deepchem as dc"
   ]
  },
  {
   "cell_type": "code",
   "execution_count": 2,
   "id": "643b50d0-9a7e-4357-bf37-241fd9d1768f",
   "metadata": {},
   "outputs": [
    {
     "name": "stdout",
     "output_type": "stream",
     "text": [
      "Device: cuda\n"
     ]
    }
   ],
   "source": [
    "# GPU 설정\n",
    "device = torch.device(\"cuda\" if torch.cuda.is_available() else \"cpu\")\n",
    "print(f\"Device: {device}\")"
   ]
  },
  {
   "cell_type": "code",
   "execution_count": 3,
   "id": "0279b662-d18c-4471-8130-10d3afb68318",
   "metadata": {},
   "outputs": [],
   "source": [
    "# 로컬에서 Roberta 모델과 Tokenizer 로드\n",
    "tokenizer_path = \"./origin_model/roberta/tokenizer_folder\"\n",
    "model_path = \"./origin_model/roberta\""
   ]
  },
  {
   "cell_type": "code",
   "execution_count": 4,
   "id": "c26b0365-2c30-4ce6-bfa3-9190df00ea35",
   "metadata": {},
   "outputs": [],
   "source": [
    "# 토크나이저 로드\n",
    "tokenizer = RobertaTokenizer.from_pretrained(tokenizer_path)"
   ]
  },
  {
   "cell_type": "code",
   "execution_count": 5,
   "id": "b888386b-eb3d-422c-987d-a38357e0cd3f",
   "metadata": {},
   "outputs": [],
   "source": [
    "# 모델 로드 함수 (동적으로 num_labels 설정)\n",
    "def load_model(model_path, num_labels):\n",
    "    return RobertaForSequenceClassification.from_pretrained(model_path, num_labels=num_labels).to(device)"
   ]
  },
  {
   "cell_type": "code",
   "execution_count": 6,
   "id": "44d256ec-577a-4961-9042-f23060feac1f",
   "metadata": {},
   "outputs": [],
   "source": [
    "# 데이터셋 로드 함수\n",
    "def load_dataset(dataset_name, featurizer):\n",
    "    if dataset_name == \"ClinTox\":\n",
    "        tasks, datasets, transformers = dc.molnet.load_clintox(featurizer=featurizer, splitter=None, transformers=[], reload=True)\n",
    "        dataset = datasets[0]\n",
    "        df = pd.DataFrame({\n",
    "            'smiles': dataset.ids,\n",
    "            'FDA_APPROVED': dataset.y[:, 0],\n",
    "            'CT_TOX': dataset.y[:, 1]\n",
    "        }).dropna()\n",
    "        return df\n",
    "\n",
    "    elif dataset_name == \"SIDER\":\n",
    "        tasks, datasets, transformers = dc.molnet.load_sider(featurizer=featurizer, splitter=None, transformers=[], reload=True)\n",
    "        dataset = datasets[0]\n",
    "        df = pd.DataFrame(data=dataset.y, columns=tasks)\n",
    "        df['smiles'] = dataset.ids\n",
    "        df = df.dropna()\n",
    "        return df\n",
    "\n",
    "    elif dataset_name == \"Tox21\":\n",
    "        tasks, datasets, transformers = dc.molnet.load_tox21(featurizer=featurizer, splitter=None, transformers=[], reload=True)\n",
    "        dataset = datasets[0]\n",
    "        df = pd.DataFrame(data=dataset.y, columns=tasks)\n",
    "        df['smiles'] = dataset.ids\n",
    "        df = df.dropna()\n",
    "        return df\n",
    "\n",
    "    else:\n",
    "        raise ValueError(f\"Unknown dataset: {dataset_name}\")"
   ]
  },
  {
   "cell_type": "code",
   "execution_count": 7,
   "id": "42581dbd-f855-49e5-8061-c7fd692d6eb7",
   "metadata": {},
   "outputs": [],
   "source": [
    "def prepare_data(df):\n",
    "    texts = [f\"SMILES: {smiles}\" for smiles in df['smiles']]\n",
    "    label_columns = df.columns.difference(['smiles'])\n",
    "    labels = df[label_columns].values.astype(np.float32)\n",
    "    return texts, labels"
   ]
  },
  {
   "cell_type": "code",
   "execution_count": 8,
   "id": "1621b17f-3596-4861-a048-665275003099",
   "metadata": {},
   "outputs": [],
   "source": [
    "class SMILESDataset(torch.utils.data.Dataset):\n",
    "    def __init__(self, texts, labels):\n",
    "        self.texts = texts\n",
    "        self.labels = labels\n",
    "\n",
    "    def __len__(self):\n",
    "        return len(self.texts)\n",
    "\n",
    "    def __getitem__(self, idx):\n",
    "        text = self.texts[idx]\n",
    "        label = self.labels[idx]\n",
    "        inputs = tokenizer(text, return_tensors=\"pt\", padding=\"max_length\", truncation=True, max_length=512)\n",
    "        inputs['labels'] = torch.tensor(label, dtype=torch.float)\n",
    "        return {key: val.squeeze(0) for key, val in inputs.items()}"
   ]
  },
  {
   "cell_type": "code",
   "execution_count": 9,
   "id": "91a36462-4847-4a22-bcfb-8e6db5eb2d27",
   "metadata": {},
   "outputs": [],
   "source": [
    "def evaluate_dataset(dataset_name, featurizer, model_path, tokenizer, batch_size=16):\n",
    "    print(f\"\\n=== Evaluating {dataset_name} ===\")\n",
    "\n",
    "    # 데이터셋 로드\n",
    "    df = load_dataset(dataset_name, featurizer)\n",
    "    num_labels = len(df.columns) - 1  # 'smiles' 제외한 컬럼 수\n",
    "    print(f\"Number of labels for {dataset_name}: {num_labels}\")\n",
    "\n",
    "    # 모델 로드\n",
    "    model = load_model(model_path, num_labels)\n",
    "    model.eval()\n",
    "\n",
    "    # 데이터 준비\n",
    "    texts, labels = prepare_data(df)\n",
    "\n",
    "    # DataLoader 생성\n",
    "    dataset = SMILESDataset(texts, labels)\n",
    "    data_loader = DataLoader(dataset, batch_size=batch_size)\n",
    "\n",
    "    all_preds, all_labels = [], []\n",
    "\n",
    "    # 모델 추론\n",
    "    with torch.no_grad():\n",
    "        for batch in tqdm(data_loader, desc=f\"Predicting {dataset_name}\"):\n",
    "            input_ids = batch[\"input_ids\"].to(device)\n",
    "            attention_mask = batch[\"attention_mask\"].to(device)\n",
    "            labels = batch[\"labels\"].to(device)\n",
    "\n",
    "            outputs = model(input_ids=input_ids, attention_mask=attention_mask)\n",
    "            logits = outputs.logits\n",
    "            preds = torch.sigmoid(logits).cpu().numpy()\n",
    "\n",
    "            all_preds.extend(preds)\n",
    "            all_labels.extend(labels.cpu().numpy())\n",
    "\n",
    "    # 데이터 크기 확인\n",
    "    all_preds = np.array(all_preds)\n",
    "    all_labels = np.array(all_labels)\n",
    "    print(\"=== Data Shapes ===\")\n",
    "    print(f\"all_labels shape: {all_labels.shape}\")\n",
    "    print(f\"all_preds shape: {all_preds.shape}\")\n",
    "\n",
    "    # 예측값 0.5 기준으로 이진화\n",
    "    all_preds = (all_preds > 0.5).astype(int)\n",
    "\n",
    "    # 성능 평가\n",
    "    roc_auc = roc_auc_score(all_labels, all_preds, average='macro')\n",
    "    f1_micro = f1_score(all_labels, all_preds, average='micro')\n",
    "    f1_macro = f1_score(all_labels, all_preds, average='macro')\n",
    "\n",
    "    print(f\"ROC-AUC (Macro): {roc_auc:.4f}\")\n",
    "    print(f\"F1-Score (Micro): {f1_micro:.4f}\")\n",
    "    print(f\"F1-Score (Macro): {f1_macro:.4f}\")"
   ]
  },
  {
   "cell_type": "code",
   "execution_count": 10,
   "id": "bbdf47b7-4f3c-4b7f-bb74-1369847831c3",
   "metadata": {},
   "outputs": [],
   "source": [
    "# Featurizer 설정\n",
    "featurizer = dc.feat.CircularFingerprint(radius=2, size=2048)"
   ]
  },
  {
   "cell_type": "code",
   "execution_count": 11,
   "id": "cbc7df23-619d-4ae1-8d09-ff0ca6bd6fd8",
   "metadata": {},
   "outputs": [
    {
     "name": "stderr",
     "output_type": "stream",
     "text": [
      "/HDD1/bbq9088/miniconda3/envs/molberta/lib/python3.10/site-packages/transformers/modeling_utils.py:442: FutureWarning: You are using `torch.load` with `weights_only=False` (the current default value), which uses the default pickle module implicitly. It is possible to construct malicious pickle data which will execute arbitrary code during unpickling (See https://github.com/pytorch/pytorch/blob/main/SECURITY.md#untrusted-models for more details). In a future release, the default value for `weights_only` will be flipped to `True`. This limits the functions that could be executed during unpickling. Arbitrary objects will no longer be allowed to be loaded via this mode unless they are explicitly allowlisted by the user via `torch.serialization.add_safe_globals`. We recommend you start setting `weights_only=True` for any use case where you don't have full control of the loaded file. Please open an issue on GitHub for any issues related to this experimental feature.\n",
      "  return torch.load(checkpoint_file, map_location=\"cpu\")\n"
     ]
    },
    {
     "name": "stdout",
     "output_type": "stream",
     "text": [
      "\n",
      "=== Evaluating ClinTox ===\n",
      "Number of labels for ClinTox: 2\n"
     ]
    },
    {
     "name": "stderr",
     "output_type": "stream",
     "text": [
      "Some weights of the model checkpoint at ./origin_model/roberta were not used when initializing RobertaForSequenceClassification: ['lm_head.dense.bias', 'lm_head.layer_norm.bias', 'lm_head.layer_norm.weight', 'lm_head.dense.weight', 'lm_head.bias']\n",
      "- This IS expected if you are initializing RobertaForSequenceClassification from the checkpoint of a model trained on another task or with another architecture (e.g. initializing a BertForSequenceClassification model from a BertForPreTraining model).\n",
      "- This IS NOT expected if you are initializing RobertaForSequenceClassification from the checkpoint of a model that you expect to be exactly identical (initializing a BertForSequenceClassification model from a BertForSequenceClassification model).\n",
      "Some weights of RobertaForSequenceClassification were not initialized from the model checkpoint at ./origin_model/roberta and are newly initialized: ['classifier.out_proj.weight', 'classifier.dense.weight', 'classifier.dense.bias', 'classifier.out_proj.bias']\n",
      "You should probably TRAIN this model on a down-stream task to be able to use it for predictions and inference.\n",
      "Predicting ClinTox: 100%|██████████████████████████████████████████████████████████| 93/93 [00:06<00:00, 13.65it/s]\n",
      "/HDD1/bbq9088/miniconda3/envs/molberta/lib/python3.10/site-packages/transformers/modeling_utils.py:442: FutureWarning: You are using `torch.load` with `weights_only=False` (the current default value), which uses the default pickle module implicitly. It is possible to construct malicious pickle data which will execute arbitrary code during unpickling (See https://github.com/pytorch/pytorch/blob/main/SECURITY.md#untrusted-models for more details). In a future release, the default value for `weights_only` will be flipped to `True`. This limits the functions that could be executed during unpickling. Arbitrary objects will no longer be allowed to be loaded via this mode unless they are explicitly allowlisted by the user via `torch.serialization.add_safe_globals`. We recommend you start setting `weights_only=True` for any use case where you don't have full control of the loaded file. Please open an issue on GitHub for any issues related to this experimental feature.\n",
      "  return torch.load(checkpoint_file, map_location=\"cpu\")\n"
     ]
    },
    {
     "name": "stdout",
     "output_type": "stream",
     "text": [
      "=== Data Shapes ===\n",
      "all_labels shape: (1480, 2)\n",
      "all_preds shape: (1480, 2)\n",
      "ROC-AUC (Macro): 0.4861\n",
      "F1-Score (Micro): 0.0000\n",
      "F1-Score (Macro): 0.0000\n",
      "\n",
      "=== Evaluating SIDER ===\n",
      "Number of labels for SIDER: 27\n"
     ]
    },
    {
     "name": "stderr",
     "output_type": "stream",
     "text": [
      "Some weights of the model checkpoint at ./origin_model/roberta were not used when initializing RobertaForSequenceClassification: ['lm_head.dense.bias', 'lm_head.layer_norm.bias', 'lm_head.layer_norm.weight', 'lm_head.dense.weight', 'lm_head.bias']\n",
      "- This IS expected if you are initializing RobertaForSequenceClassification from the checkpoint of a model trained on another task or with another architecture (e.g. initializing a BertForSequenceClassification model from a BertForPreTraining model).\n",
      "- This IS NOT expected if you are initializing RobertaForSequenceClassification from the checkpoint of a model that you expect to be exactly identical (initializing a BertForSequenceClassification model from a BertForSequenceClassification model).\n",
      "Some weights of RobertaForSequenceClassification were not initialized from the model checkpoint at ./origin_model/roberta and are newly initialized: ['classifier.out_proj.weight', 'classifier.dense.weight', 'classifier.dense.bias', 'classifier.out_proj.bias']\n",
      "You should probably TRAIN this model on a down-stream task to be able to use it for predictions and inference.\n",
      "Predicting SIDER: 100%|████████████████████████████████████████████████████████████| 90/90 [00:07<00:00, 11.81it/s]\n",
      "/HDD1/bbq9088/miniconda3/envs/molberta/lib/python3.10/site-packages/transformers/modeling_utils.py:442: FutureWarning: You are using `torch.load` with `weights_only=False` (the current default value), which uses the default pickle module implicitly. It is possible to construct malicious pickle data which will execute arbitrary code during unpickling (See https://github.com/pytorch/pytorch/blob/main/SECURITY.md#untrusted-models for more details). In a future release, the default value for `weights_only` will be flipped to `True`. This limits the functions that could be executed during unpickling. Arbitrary objects will no longer be allowed to be loaded via this mode unless they are explicitly allowlisted by the user via `torch.serialization.add_safe_globals`. We recommend you start setting `weights_only=True` for any use case where you don't have full control of the loaded file. Please open an issue on GitHub for any issues related to this experimental feature.\n",
      "  return torch.load(checkpoint_file, map_location=\"cpu\")\n"
     ]
    },
    {
     "name": "stdout",
     "output_type": "stream",
     "text": [
      "=== Data Shapes ===\n",
      "all_labels shape: (1427, 27)\n",
      "all_preds shape: (1427, 27)\n",
      "ROC-AUC (Macro): 0.5092\n",
      "F1-Score (Micro): 0.5550\n",
      "F1-Score (Macro): 0.4083\n",
      "\n",
      "=== Evaluating Tox21 ===\n",
      "Number of labels for Tox21: 12\n"
     ]
    },
    {
     "name": "stderr",
     "output_type": "stream",
     "text": [
      "Some weights of the model checkpoint at ./origin_model/roberta were not used when initializing RobertaForSequenceClassification: ['lm_head.dense.bias', 'lm_head.layer_norm.bias', 'lm_head.layer_norm.weight', 'lm_head.dense.weight', 'lm_head.bias']\n",
      "- This IS expected if you are initializing RobertaForSequenceClassification from the checkpoint of a model trained on another task or with another architecture (e.g. initializing a BertForSequenceClassification model from a BertForPreTraining model).\n",
      "- This IS NOT expected if you are initializing RobertaForSequenceClassification from the checkpoint of a model that you expect to be exactly identical (initializing a BertForSequenceClassification model from a BertForSequenceClassification model).\n",
      "Some weights of RobertaForSequenceClassification were not initialized from the model checkpoint at ./origin_model/roberta and are newly initialized: ['classifier.out_proj.weight', 'classifier.dense.weight', 'classifier.dense.bias', 'classifier.out_proj.bias']\n",
      "You should probably TRAIN this model on a down-stream task to be able to use it for predictions and inference.\n",
      "Predicting Tox21: 100%|██████████████████████████████████████████████████████████| 489/489 [00:40<00:00, 11.95it/s]"
     ]
    },
    {
     "name": "stdout",
     "output_type": "stream",
     "text": [
      "=== Data Shapes ===\n",
      "all_labels shape: (7823, 12)\n",
      "all_preds shape: (7823, 12)\n",
      "ROC-AUC (Macro): 0.4954\n",
      "F1-Score (Micro): 0.1064\n",
      "F1-Score (Macro): 0.0759\n"
     ]
    },
    {
     "name": "stderr",
     "output_type": "stream",
     "text": [
      "\n"
     ]
    }
   ],
   "source": [
    "# 데이터셋별 평가\n",
    "for dataset_name in [\"ClinTox\", \"SIDER\", \"Tox21\"]:\n",
    "    evaluate_dataset(dataset_name, featurizer, model_path, tokenizer, batch_size=16)"
   ]
  },
  {
   "cell_type": "code",
   "execution_count": null,
   "id": "30cd4e52-cfe3-4fce-9e3c-140fc5a42b35",
   "metadata": {},
   "outputs": [],
   "source": []
  }
 ],
 "metadata": {
  "kernelspec": {
   "display_name": "Python 3 (ipykernel)",
   "language": "python",
   "name": "python3"
  },
  "language_info": {
   "codemirror_mode": {
    "name": "ipython",
    "version": 3
   },
   "file_extension": ".py",
   "mimetype": "text/x-python",
   "name": "python",
   "nbconvert_exporter": "python",
   "pygments_lexer": "ipython3",
   "version": "3.10.15"
  }
 },
 "nbformat": 4,
 "nbformat_minor": 5
}
