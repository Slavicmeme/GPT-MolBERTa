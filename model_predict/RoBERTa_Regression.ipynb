{
 "cells": [
  {
   "cell_type": "code",
   "execution_count": 1,
   "id": "84a611e8-6e46-486a-8623-16383f26e413",
   "metadata": {},
   "outputs": [
    {
     "name": "stderr",
     "output_type": "stream",
     "text": [
      "No normalization for SPS. Feature removed!\n",
      "No normalization for AvgIpc. Feature removed!\n",
      "Skipped loading some Tensorflow models, missing a dependency. No module named 'tensorflow'\n",
      "Skipped loading modules with pytorch-geometric dependency, missing a dependency. No module named 'torch_geometric'\n",
      "Skipped loading modules with pytorch-geometric dependency, missing a dependency. cannot import name 'DMPNN' from 'deepchem.models.torch_models' (/HDD1/bbq9088/miniconda3/envs/molberta/lib/python3.10/site-packages/deepchem/models/torch_models/__init__.py)\n",
      "Skipped loading modules with pytorch-lightning dependency, missing a dependency. No module named 'lightning'\n",
      "Skipped loading some Jax models, missing a dependency. No module named 'jax'\n",
      "Skipped loading some PyTorch models, missing a dependency. No module named 'tensorflow'\n"
     ]
    }
   ],
   "source": [
    "import os\n",
    "import torch\n",
    "import numpy as np\n",
    "import pandas as pd\n",
    "from tqdm import tqdm\n",
    "from sklearn.metrics import mean_squared_error, r2_score\n",
    "from torch.utils.data import DataLoader\n",
    "from transformers import RobertaTokenizer, RobertaForSequenceClassification\n",
    "import deepchem as dc"
   ]
  },
  {
   "cell_type": "code",
   "execution_count": 2,
   "id": "643b50d0-9a7e-4357-bf37-241fd9d1768f",
   "metadata": {},
   "outputs": [
    {
     "name": "stdout",
     "output_type": "stream",
     "text": [
      "Device: cuda\n"
     ]
    }
   ],
   "source": [
    "# GPU 설정\n",
    "device = torch.device(\"cuda\" if torch.cuda.is_available() else \"cpu\")\n",
    "print(f\"Device: {device}\")"
   ]
  },
  {
   "cell_type": "code",
   "execution_count": 3,
   "id": "0279b662-d18c-4471-8130-10d3afb68318",
   "metadata": {},
   "outputs": [],
   "source": [
    "# 로컬에서 Roberta 모델과 Tokenizer 로드\n",
    "tokenizer_path = \"./origin_model/roberta/tokenizer_folder\"\n",
    "model_path = \"./origin_model/roberta\""
   ]
  },
  {
   "cell_type": "code",
   "execution_count": 4,
   "id": "c26b0365-2c30-4ce6-bfa3-9190df00ea35",
   "metadata": {},
   "outputs": [],
   "source": [
    "# 토크나이저 로드\n",
    "tokenizer = RobertaTokenizer.from_pretrained(tokenizer_path)"
   ]
  },
  {
   "cell_type": "code",
   "execution_count": 5,
   "id": "b888386b-eb3d-422c-987d-a38357e0cd3f",
   "metadata": {},
   "outputs": [],
   "source": [
    "# RoBERTa 모델 로드 함수 (회귀용, num_labels=1 고정)\n",
    "def load_model(model_path):\n",
    "    return RobertaForSequenceClassification.from_pretrained(model_path, num_labels=1).to(device)"
   ]
  },
  {
   "cell_type": "code",
   "execution_count": 6,
   "id": "44d256ec-577a-4961-9042-f23060feac1f",
   "metadata": {},
   "outputs": [],
   "source": [
    "# 데이터 로드 함수\n",
    "def load_datasets(featurizer):\n",
    "    # FreeSolv\n",
    "    tasks_freesolv, datasets_freesolv, _ = dc.molnet.load_freesolv(featurizer=featurizer, splitter=None, transformers=[], reload=True)\n",
    "    dataset_freesolv = datasets_freesolv[0]\n",
    "    df_freesolv = pd.DataFrame({'smiles': dataset_freesolv.ids, 'label': dataset_freesolv.y[:, 0]}).dropna()\n",
    "\n",
    "    # Lipophilicity\n",
    "    tasks_lipo, datasets_lipo, _ = dc.molnet.load_lipo(featurizer=featurizer, splitter=None, transformers=[], reload=True)\n",
    "    dataset_lipo = datasets_lipo[0]\n",
    "    df_lipo = pd.DataFrame({'smiles': dataset_lipo.ids, 'label': dataset_lipo.y[:, 0]}).dropna()\n",
    "\n",
    "    # ESOL\n",
    "    tasks_esol, datasets_esol, _ = dc.molnet.load_delaney(featurizer=featurizer, splitter=None, transformers=[], reload=True)\n",
    "    dataset_esol = datasets_esol[0]\n",
    "    df_esol = pd.DataFrame({'smiles': dataset_esol.ids, 'label': dataset_esol.y[:, 0]}).dropna()\n",
    "\n",
    "    return {'FreeSolv': df_freesolv, 'Lipophilicity': df_lipo, 'ESOL': df_esol}"
   ]
  },
  {
   "cell_type": "code",
   "execution_count": 7,
   "id": "42581dbd-f855-49e5-8061-c7fd692d6eb7",
   "metadata": {},
   "outputs": [],
   "source": [
    "# 데이터 준비 함수\n",
    "def prepare_data(df):\n",
    "    texts = [f\"SMILES: {smiles}\" for smiles in df['smiles']]\n",
    "    labels = df['label'].values.astype(np.float32)\n",
    "    return texts, labels"
   ]
  },
  {
   "cell_type": "code",
   "execution_count": 8,
   "id": "1621b17f-3596-4861-a048-665275003099",
   "metadata": {},
   "outputs": [],
   "source": [
    "# 커스텀 데이터셋 클래스\n",
    "class SMILESDataset(torch.utils.data.Dataset):\n",
    "    def __init__(self, texts, labels):\n",
    "        self.texts = texts\n",
    "        self.labels = labels\n",
    "\n",
    "    def __len__(self):\n",
    "        return len(self.texts)\n",
    "\n",
    "    def __getitem__(self, idx):\n",
    "        text = self.texts[idx]\n",
    "        label = self.labels[idx]\n",
    "        inputs = tokenizer(text, return_tensors=\"pt\", padding=\"max_length\", truncation=True, max_length=512)\n",
    "        inputs['labels'] = torch.tensor(label, dtype=torch.float)\n",
    "        return {key: val.squeeze(0) for key, val in inputs.items()}"
   ]
  },
  {
   "cell_type": "code",
   "execution_count": 9,
   "id": "91a36462-4847-4a22-bcfb-8e6db5eb2d27",
   "metadata": {},
   "outputs": [],
   "source": [
    "# 회귀 평가 함수\n",
    "def evaluate_regression(df, model, batch_size=16):\n",
    "    texts, labels = prepare_data(df)\n",
    "\n",
    "    dataset = SMILESDataset(texts, labels)\n",
    "    data_loader = DataLoader(dataset, batch_size=batch_size)\n",
    "\n",
    "    all_preds, all_labels = [], []\n",
    "\n",
    "    # 모델 추론\n",
    "    with torch.no_grad():\n",
    "        for batch in tqdm(data_loader, desc=\"Predicting\"):\n",
    "            input_ids = batch[\"input_ids\"].to(device)\n",
    "            attention_mask = batch[\"attention_mask\"].to(device)\n",
    "            labels = batch[\"labels\"].to(device)\n",
    "\n",
    "            outputs = model(input_ids=input_ids, attention_mask=attention_mask)\n",
    "            preds = outputs.logits.squeeze(-1).cpu().numpy()\n",
    "\n",
    "            all_preds.extend(preds)\n",
    "            all_labels.extend(labels.cpu().numpy())\n",
    "\n",
    "    # RMSE 및 R² 계산\n",
    "    all_preds = np.array(all_preds)\n",
    "    all_labels = np.array(all_labels)\n",
    "    rmse = np.sqrt(mean_squared_error(all_labels, all_preds))\n",
    "    r2 = r2_score(all_labels, all_preds)\n",
    "\n",
    "    print(f\"RMSE: {rmse:.4f}\")\n",
    "    print(f\"R²: {r2:.4f}\")\n",
    "    return rmse, r2"
   ]
  },
  {
   "cell_type": "code",
   "execution_count": 10,
   "id": "bbdf47b7-4f3c-4b7f-bb74-1369847831c3",
   "metadata": {},
   "outputs": [],
   "source": [
    "# Featurizer 설정\n",
    "featurizer = dc.feat.CircularFingerprint(radius=2, size=2048)\n",
    "\n",
    "# 데이터셋 로드\n",
    "datasets = load_datasets(featurizer)"
   ]
  },
  {
   "cell_type": "code",
   "execution_count": 11,
   "id": "cbc7df23-619d-4ae1-8d09-ff0ca6bd6fd8",
   "metadata": {},
   "outputs": [
    {
     "name": "stderr",
     "output_type": "stream",
     "text": [
      "/HDD1/bbq9088/miniconda3/envs/molberta/lib/python3.10/site-packages/transformers/modeling_utils.py:442: FutureWarning: You are using `torch.load` with `weights_only=False` (the current default value), which uses the default pickle module implicitly. It is possible to construct malicious pickle data which will execute arbitrary code during unpickling (See https://github.com/pytorch/pytorch/blob/main/SECURITY.md#untrusted-models for more details). In a future release, the default value for `weights_only` will be flipped to `True`. This limits the functions that could be executed during unpickling. Arbitrary objects will no longer be allowed to be loaded via this mode unless they are explicitly allowlisted by the user via `torch.serialization.add_safe_globals`. We recommend you start setting `weights_only=True` for any use case where you don't have full control of the loaded file. Please open an issue on GitHub for any issues related to this experimental feature.\n",
      "  return torch.load(checkpoint_file, map_location=\"cpu\")\n",
      "Some weights of the model checkpoint at ./origin_model/roberta were not used when initializing RobertaForSequenceClassification: ['lm_head.dense.bias', 'lm_head.layer_norm.weight', 'lm_head.bias', 'lm_head.layer_norm.bias', 'lm_head.dense.weight']\n",
      "- This IS expected if you are initializing RobertaForSequenceClassification from the checkpoint of a model trained on another task or with another architecture (e.g. initializing a BertForSequenceClassification model from a BertForPreTraining model).\n",
      "- This IS NOT expected if you are initializing RobertaForSequenceClassification from the checkpoint of a model that you expect to be exactly identical (initializing a BertForSequenceClassification model from a BertForSequenceClassification model).\n",
      "Some weights of RobertaForSequenceClassification were not initialized from the model checkpoint at ./origin_model/roberta and are newly initialized: ['classifier.out_proj.bias', 'classifier.dense.weight', 'classifier.dense.bias', 'classifier.out_proj.weight']\n",
      "You should probably TRAIN this model on a down-stream task to be able to use it for predictions and inference.\n"
     ]
    },
    {
     "data": {
      "text/plain": [
       "RobertaForSequenceClassification(\n",
       "  (roberta): RobertaModel(\n",
       "    (embeddings): RobertaEmbeddings(\n",
       "      (word_embeddings): Embedding(50000, 768, padding_idx=1)\n",
       "      (position_embeddings): Embedding(514, 768, padding_idx=1)\n",
       "      (token_type_embeddings): Embedding(2, 768)\n",
       "      (LayerNorm): LayerNorm((768,), eps=1e-12, elementwise_affine=True)\n",
       "      (dropout): Dropout(p=0.1, inplace=False)\n",
       "    )\n",
       "    (encoder): RobertaEncoder(\n",
       "      (layer): ModuleList(\n",
       "        (0-5): 6 x RobertaLayer(\n",
       "          (attention): RobertaAttention(\n",
       "            (self): RobertaSelfAttention(\n",
       "              (query): Linear(in_features=768, out_features=768, bias=True)\n",
       "              (key): Linear(in_features=768, out_features=768, bias=True)\n",
       "              (value): Linear(in_features=768, out_features=768, bias=True)\n",
       "              (dropout): Dropout(p=0.1, inplace=False)\n",
       "            )\n",
       "            (output): RobertaSelfOutput(\n",
       "              (dense): Linear(in_features=768, out_features=768, bias=True)\n",
       "              (LayerNorm): LayerNorm((768,), eps=1e-12, elementwise_affine=True)\n",
       "              (dropout): Dropout(p=0.1, inplace=False)\n",
       "            )\n",
       "          )\n",
       "          (intermediate): RobertaIntermediate(\n",
       "            (dense): Linear(in_features=768, out_features=3072, bias=True)\n",
       "            (intermediate_act_fn): GELUActivation()\n",
       "          )\n",
       "          (output): RobertaOutput(\n",
       "            (dense): Linear(in_features=3072, out_features=768, bias=True)\n",
       "            (LayerNorm): LayerNorm((768,), eps=1e-12, elementwise_affine=True)\n",
       "            (dropout): Dropout(p=0.1, inplace=False)\n",
       "          )\n",
       "        )\n",
       "      )\n",
       "    )\n",
       "  )\n",
       "  (classifier): RobertaClassificationHead(\n",
       "    (dense): Linear(in_features=768, out_features=768, bias=True)\n",
       "    (dropout): Dropout(p=0.1, inplace=False)\n",
       "    (out_proj): Linear(in_features=768, out_features=1, bias=True)\n",
       "  )\n",
       ")"
      ]
     },
     "execution_count": 11,
     "metadata": {},
     "output_type": "execute_result"
    }
   ],
   "source": [
    "# 모델 로드\n",
    "model = load_model(model_path)\n",
    "model.eval()"
   ]
  },
  {
   "cell_type": "code",
   "execution_count": 12,
   "id": "3437e375-718d-4c81-adb6-919ea4400880",
   "metadata": {},
   "outputs": [
    {
     "name": "stdout",
     "output_type": "stream",
     "text": [
      "\n",
      "=== Evaluating FreeSolv ===\n"
     ]
    },
    {
     "name": "stderr",
     "output_type": "stream",
     "text": [
      "Predicting: 100%|██████████████████████████████████████████████████████████████████| 41/41 [00:03<00:00, 11.53it/s]\n"
     ]
    },
    {
     "name": "stdout",
     "output_type": "stream",
     "text": [
      "RMSE: 1.0704\n",
      "R²: -0.1458\n",
      "\n",
      "=== Evaluating Lipophilicity ===\n"
     ]
    },
    {
     "name": "stderr",
     "output_type": "stream",
     "text": [
      "Predicting: 100%|████████████████████████████████████████████████████████████████| 263/263 [00:21<00:00, 11.96it/s]\n"
     ]
    },
    {
     "name": "stdout",
     "output_type": "stream",
     "text": [
      "RMSE: 2.1468\n",
      "R²: -2.1852\n",
      "\n",
      "=== Evaluating ESOL ===\n"
     ]
    },
    {
     "name": "stderr",
     "output_type": "stream",
     "text": [
      "Predicting: 100%|██████████████████████████████████████████████████████████████████| 71/71 [00:05<00:00, 12.11it/s]"
     ]
    },
    {
     "name": "stdout",
     "output_type": "stream",
     "text": [
      "RMSE: 4.0285\n",
      "R²: -2.6959\n"
     ]
    },
    {
     "name": "stderr",
     "output_type": "stream",
     "text": [
      "\n"
     ]
    }
   ],
   "source": [
    "# 데이터셋별 평가\n",
    "for dataset_name, df in datasets.items():\n",
    "    print(f\"\\n=== Evaluating {dataset_name} ===\")\n",
    "    evaluate_regression(df, model)"
   ]
  }
 ],
 "metadata": {
  "kernelspec": {
   "display_name": "Python 3 (ipykernel)",
   "language": "python",
   "name": "python3"
  },
  "language_info": {
   "codemirror_mode": {
    "name": "ipython",
    "version": 3
   },
   "file_extension": ".py",
   "mimetype": "text/x-python",
   "name": "python",
   "nbconvert_exporter": "python",
   "pygments_lexer": "ipython3",
   "version": "3.10.15"
  }
 },
 "nbformat": 4,
 "nbformat_minor": 5
}
